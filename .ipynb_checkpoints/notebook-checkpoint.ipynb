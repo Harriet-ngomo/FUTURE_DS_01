{
 "cells": [
  {
   "cell_type": "markdown",
   "id": "0e404cd1-9745-4cd7-a428-256b2feddca9",
   "metadata": {},
   "source": [
    "# Data Science & Analytics Task 1\n",
    "By Future Interns\n",
    "📊 Business Sales Dashboard from E-commerce Data\n",
    "\n",
    "🔍 About the Task\n",
    "In this real-world internship task, you’ll work with e-commerce sales data to build a professional, interactive dashboard. The goal is to help business owners and decision-makers understand:\n",
    "\n",
    "- What are the best-selling products?\n",
    "- When do sales peak during the year?\n",
    "- Which categories or regions bring the most revenue?\n",
    "\n",
    "\n",
    "✅ What You’ll Do\n",
    "Clean and organize raw sales data (Excel/CSV format).\n",
    "Analyze patterns like monthly sales trends, category-wise performance, and customer behavior.\n",
    "Build a visually appealing Power BI dashboard with filters and charts.\n",
    "Present insights and recommendations as if you were helping a real business.\n",
    "🎯 Skills You’ll Gain\n",
    "💡 Data cleaning & transformation\n",
    "📆 Time series trend analysis\n",
    "📊 DAX (Data Analysis Expressions) for creating KPIs\n",
    "📈 Business storytelling with visuals\n",
    "📥 Importing & handling Excel/CSV datasets\n",
    "🛠️ Tools You’ll Use\n",
    "Power BI Desktop – Download here (Free)\n",
    "Microsoft Excel – Basic data exploration and formatting\n",
    "Optional: SQL – If you want to take your data preprocessing to the next level\n",
    "📁 Sample Datasets (Choose any one to start)\n",
    "These are free datasets – no sign-in required:\n",
    "\n"
   ]
  },
  {
   "cell_type": "code",
   "execution_count": 1,
   "id": "4bd6ee59-987a-4f6f-a108-42c1e6b0e8ee",
   "metadata": {},
   "outputs": [],
   "source": [
    "# !pip install --upgrade xlrd\n"
   ]
  },
  {
   "cell_type": "markdown",
   "id": "a9719dc2-4983-4532-8b9e-ea56881f4ee4",
   "metadata": {},
   "source": [
    "# Import libraries"
   ]
  },
  {
   "cell_type": "code",
   "execution_count": 2,
   "id": "734620d3",
   "metadata": {},
   "outputs": [],
   "source": [
    "import pandas as pd"
   ]
  },
  {
   "cell_type": "code",
   "execution_count": 3,
   "id": "74b55e97",
   "metadata": {},
   "outputs": [
    {
     "data": {
      "text/html": [
       "<div>\n",
       "<style scoped>\n",
       "    .dataframe tbody tr th:only-of-type {\n",
       "        vertical-align: middle;\n",
       "    }\n",
       "\n",
       "    .dataframe tbody tr th {\n",
       "        vertical-align: top;\n",
       "    }\n",
       "\n",
       "    .dataframe thead th {\n",
       "        text-align: right;\n",
       "    }\n",
       "</style>\n",
       "<table border=\"1\" class=\"dataframe\">\n",
       "  <thead>\n",
       "    <tr style=\"text-align: right;\">\n",
       "      <th></th>\n",
       "      <th>Row ID</th>\n",
       "      <th>Order ID</th>\n",
       "      <th>Order Date</th>\n",
       "      <th>Ship Date</th>\n",
       "      <th>Ship Mode</th>\n",
       "      <th>Customer ID</th>\n",
       "      <th>Customer Name</th>\n",
       "      <th>Segment</th>\n",
       "      <th>Country</th>\n",
       "      <th>City</th>\n",
       "      <th>...</th>\n",
       "      <th>Postal Code</th>\n",
       "      <th>Region</th>\n",
       "      <th>Product ID</th>\n",
       "      <th>Category</th>\n",
       "      <th>Sub-Category</th>\n",
       "      <th>Product Name</th>\n",
       "      <th>Sales</th>\n",
       "      <th>Quantity</th>\n",
       "      <th>Discount</th>\n",
       "      <th>Profit</th>\n",
       "    </tr>\n",
       "  </thead>\n",
       "  <tbody>\n",
       "    <tr>\n",
       "      <th>0</th>\n",
       "      <td>1</td>\n",
       "      <td>CA-2013-152156</td>\n",
       "      <td>2013-11-09</td>\n",
       "      <td>2013-11-12</td>\n",
       "      <td>Second Class</td>\n",
       "      <td>CG-12520</td>\n",
       "      <td>Claire Gute</td>\n",
       "      <td>Consumer</td>\n",
       "      <td>United States</td>\n",
       "      <td>Henderson</td>\n",
       "      <td>...</td>\n",
       "      <td>42420</td>\n",
       "      <td>South</td>\n",
       "      <td>FUR-BO-10001798</td>\n",
       "      <td>Furniture</td>\n",
       "      <td>Bookcases</td>\n",
       "      <td>Bush Somerset Collection Bookcase</td>\n",
       "      <td>261.9600</td>\n",
       "      <td>2</td>\n",
       "      <td>0.00</td>\n",
       "      <td>41.9136</td>\n",
       "    </tr>\n",
       "    <tr>\n",
       "      <th>1</th>\n",
       "      <td>2</td>\n",
       "      <td>CA-2013-152156</td>\n",
       "      <td>2013-11-09</td>\n",
       "      <td>2013-11-12</td>\n",
       "      <td>Second Class</td>\n",
       "      <td>CG-12520</td>\n",
       "      <td>Claire Gute</td>\n",
       "      <td>Consumer</td>\n",
       "      <td>United States</td>\n",
       "      <td>Henderson</td>\n",
       "      <td>...</td>\n",
       "      <td>42420</td>\n",
       "      <td>South</td>\n",
       "      <td>FUR-CH-10000454</td>\n",
       "      <td>Furniture</td>\n",
       "      <td>Chairs</td>\n",
       "      <td>Hon Deluxe Fabric Upholstered Stacking Chairs,...</td>\n",
       "      <td>731.9400</td>\n",
       "      <td>3</td>\n",
       "      <td>0.00</td>\n",
       "      <td>219.5820</td>\n",
       "    </tr>\n",
       "    <tr>\n",
       "      <th>2</th>\n",
       "      <td>3</td>\n",
       "      <td>CA-2013-138688</td>\n",
       "      <td>2013-06-13</td>\n",
       "      <td>2013-06-17</td>\n",
       "      <td>Second Class</td>\n",
       "      <td>DV-13045</td>\n",
       "      <td>Darrin Van Huff</td>\n",
       "      <td>Corporate</td>\n",
       "      <td>United States</td>\n",
       "      <td>Los Angeles</td>\n",
       "      <td>...</td>\n",
       "      <td>90036</td>\n",
       "      <td>West</td>\n",
       "      <td>OFF-LA-10000240</td>\n",
       "      <td>Office Supplies</td>\n",
       "      <td>Labels</td>\n",
       "      <td>Self-Adhesive Address Labels for Typewriters b...</td>\n",
       "      <td>14.6200</td>\n",
       "      <td>2</td>\n",
       "      <td>0.00</td>\n",
       "      <td>6.8714</td>\n",
       "    </tr>\n",
       "    <tr>\n",
       "      <th>3</th>\n",
       "      <td>4</td>\n",
       "      <td>US-2012-108966</td>\n",
       "      <td>2012-10-11</td>\n",
       "      <td>2012-10-18</td>\n",
       "      <td>Standard Class</td>\n",
       "      <td>SO-20335</td>\n",
       "      <td>Sean O'Donnell</td>\n",
       "      <td>Consumer</td>\n",
       "      <td>United States</td>\n",
       "      <td>Fort Lauderdale</td>\n",
       "      <td>...</td>\n",
       "      <td>33311</td>\n",
       "      <td>South</td>\n",
       "      <td>FUR-TA-10000577</td>\n",
       "      <td>Furniture</td>\n",
       "      <td>Tables</td>\n",
       "      <td>Bretford CR4500 Series Slim Rectangular Table</td>\n",
       "      <td>957.5775</td>\n",
       "      <td>5</td>\n",
       "      <td>0.45</td>\n",
       "      <td>-383.0310</td>\n",
       "    </tr>\n",
       "    <tr>\n",
       "      <th>4</th>\n",
       "      <td>5</td>\n",
       "      <td>US-2012-108966</td>\n",
       "      <td>2012-10-11</td>\n",
       "      <td>2012-10-18</td>\n",
       "      <td>Standard Class</td>\n",
       "      <td>SO-20335</td>\n",
       "      <td>Sean O'Donnell</td>\n",
       "      <td>Consumer</td>\n",
       "      <td>United States</td>\n",
       "      <td>Fort Lauderdale</td>\n",
       "      <td>...</td>\n",
       "      <td>33311</td>\n",
       "      <td>South</td>\n",
       "      <td>OFF-ST-10000760</td>\n",
       "      <td>Office Supplies</td>\n",
       "      <td>Storage</td>\n",
       "      <td>Eldon Fold 'N Roll Cart System</td>\n",
       "      <td>22.3680</td>\n",
       "      <td>2</td>\n",
       "      <td>0.20</td>\n",
       "      <td>2.5164</td>\n",
       "    </tr>\n",
       "  </tbody>\n",
       "</table>\n",
       "<p>5 rows × 21 columns</p>\n",
       "</div>"
      ],
      "text/plain": [
       "   Row ID        Order ID Order Date  Ship Date       Ship Mode Customer ID  \\\n",
       "0       1  CA-2013-152156 2013-11-09 2013-11-12    Second Class    CG-12520   \n",
       "1       2  CA-2013-152156 2013-11-09 2013-11-12    Second Class    CG-12520   \n",
       "2       3  CA-2013-138688 2013-06-13 2013-06-17    Second Class    DV-13045   \n",
       "3       4  US-2012-108966 2012-10-11 2012-10-18  Standard Class    SO-20335   \n",
       "4       5  US-2012-108966 2012-10-11 2012-10-18  Standard Class    SO-20335   \n",
       "\n",
       "     Customer Name    Segment        Country             City  ...  \\\n",
       "0      Claire Gute   Consumer  United States        Henderson  ...   \n",
       "1      Claire Gute   Consumer  United States        Henderson  ...   \n",
       "2  Darrin Van Huff  Corporate  United States      Los Angeles  ...   \n",
       "3   Sean O'Donnell   Consumer  United States  Fort Lauderdale  ...   \n",
       "4   Sean O'Donnell   Consumer  United States  Fort Lauderdale  ...   \n",
       "\n",
       "  Postal Code  Region       Product ID         Category Sub-Category  \\\n",
       "0       42420   South  FUR-BO-10001798        Furniture    Bookcases   \n",
       "1       42420   South  FUR-CH-10000454        Furniture       Chairs   \n",
       "2       90036    West  OFF-LA-10000240  Office Supplies       Labels   \n",
       "3       33311   South  FUR-TA-10000577        Furniture       Tables   \n",
       "4       33311   South  OFF-ST-10000760  Office Supplies      Storage   \n",
       "\n",
       "                                        Product Name     Sales  Quantity  \\\n",
       "0                  Bush Somerset Collection Bookcase  261.9600         2   \n",
       "1  Hon Deluxe Fabric Upholstered Stacking Chairs,...  731.9400         3   \n",
       "2  Self-Adhesive Address Labels for Typewriters b...   14.6200         2   \n",
       "3      Bretford CR4500 Series Slim Rectangular Table  957.5775         5   \n",
       "4                     Eldon Fold 'N Roll Cart System   22.3680         2   \n",
       "\n",
       "   Discount    Profit  \n",
       "0      0.00   41.9136  \n",
       "1      0.00  219.5820  \n",
       "2      0.00    6.8714  \n",
       "3      0.45 -383.0310  \n",
       "4      0.20    2.5164  \n",
       "\n",
       "[5 rows x 21 columns]"
      ]
     },
     "execution_count": 3,
     "metadata": {},
     "output_type": "execute_result"
    }
   ],
   "source": [
    "df = pd.read_excel(\"superstore.xls\")\n",
    "df.head()"
   ]
  },
  {
   "cell_type": "markdown",
   "id": "449de979-a625-4154-a5ce-a6fb40e8dc44",
   "metadata": {},
   "source": [
    "# Metadata"
   ]
  },
  {
   "cell_type": "code",
   "execution_count": 4,
   "id": "6ca1f46b-339c-4d54-9226-4b74aa4b4ad1",
   "metadata": {},
   "outputs": [
    {
     "name": "stdout",
     "output_type": "stream",
     "text": [
      "<class 'pandas.core.frame.DataFrame'>\n",
      "RangeIndex: 9994 entries, 0 to 9993\n",
      "Data columns (total 21 columns):\n",
      " #   Column         Non-Null Count  Dtype         \n",
      "---  ------         --------------  -----         \n",
      " 0   Row ID         9994 non-null   int64         \n",
      " 1   Order ID       9994 non-null   object        \n",
      " 2   Order Date     9994 non-null   datetime64[ns]\n",
      " 3   Ship Date      9994 non-null   datetime64[ns]\n",
      " 4   Ship Mode      9994 non-null   object        \n",
      " 5   Customer ID    9994 non-null   object        \n",
      " 6   Customer Name  9994 non-null   object        \n",
      " 7   Segment        9994 non-null   object        \n",
      " 8   Country        9994 non-null   object        \n",
      " 9   City           9994 non-null   object        \n",
      " 10  State          9994 non-null   object        \n",
      " 11  Postal Code    9994 non-null   int64         \n",
      " 12  Region         9994 non-null   object        \n",
      " 13  Product ID     9994 non-null   object        \n",
      " 14  Category       9994 non-null   object        \n",
      " 15  Sub-Category   9994 non-null   object        \n",
      " 16  Product Name   9994 non-null   object        \n",
      " 17  Sales          9994 non-null   float64       \n",
      " 18  Quantity       9994 non-null   int64         \n",
      " 19  Discount       9994 non-null   float64       \n",
      " 20  Profit         9994 non-null   float64       \n",
      "dtypes: datetime64[ns](2), float64(3), int64(3), object(13)\n",
      "memory usage: 1.6+ MB\n"
     ]
    }
   ],
   "source": [
    "df.info()"
   ]
  },
  {
   "cell_type": "code",
   "execution_count": 5,
   "id": "ee325e61-516f-4056-8ae3-41f5d370e1a1",
   "metadata": {},
   "outputs": [
    {
     "data": {
      "text/html": [
       "<div>\n",
       "<style scoped>\n",
       "    .dataframe tbody tr th:only-of-type {\n",
       "        vertical-align: middle;\n",
       "    }\n",
       "\n",
       "    .dataframe tbody tr th {\n",
       "        vertical-align: top;\n",
       "    }\n",
       "\n",
       "    .dataframe thead th {\n",
       "        text-align: right;\n",
       "    }\n",
       "</style>\n",
       "<table border=\"1\" class=\"dataframe\">\n",
       "  <thead>\n",
       "    <tr style=\"text-align: right;\">\n",
       "      <th></th>\n",
       "      <th>Row ID</th>\n",
       "      <th>Order Date</th>\n",
       "      <th>Ship Date</th>\n",
       "      <th>Postal Code</th>\n",
       "      <th>Sales</th>\n",
       "      <th>Quantity</th>\n",
       "      <th>Discount</th>\n",
       "      <th>Profit</th>\n",
       "    </tr>\n",
       "  </thead>\n",
       "  <tbody>\n",
       "    <tr>\n",
       "      <th>count</th>\n",
       "      <td>9994.000000</td>\n",
       "      <td>9994</td>\n",
       "      <td>9994</td>\n",
       "      <td>9994.000000</td>\n",
       "      <td>9994.000000</td>\n",
       "      <td>9994.000000</td>\n",
       "      <td>9994.000000</td>\n",
       "      <td>9994.000000</td>\n",
       "    </tr>\n",
       "    <tr>\n",
       "      <th>mean</th>\n",
       "      <td>4997.500000</td>\n",
       "      <td>2013-04-30 19:20:02.401441024</td>\n",
       "      <td>2013-05-04 18:20:49.229537792</td>\n",
       "      <td>55190.379428</td>\n",
       "      <td>229.858001</td>\n",
       "      <td>3.789574</td>\n",
       "      <td>0.156203</td>\n",
       "      <td>28.656896</td>\n",
       "    </tr>\n",
       "    <tr>\n",
       "      <th>min</th>\n",
       "      <td>1.000000</td>\n",
       "      <td>2011-01-04 00:00:00</td>\n",
       "      <td>2011-01-08 00:00:00</td>\n",
       "      <td>1040.000000</td>\n",
       "      <td>0.444000</td>\n",
       "      <td>1.000000</td>\n",
       "      <td>0.000000</td>\n",
       "      <td>-6599.978000</td>\n",
       "    </tr>\n",
       "    <tr>\n",
       "      <th>25%</th>\n",
       "      <td>2499.250000</td>\n",
       "      <td>2012-05-23 00:00:00</td>\n",
       "      <td>2012-05-27 00:00:00</td>\n",
       "      <td>23223.000000</td>\n",
       "      <td>17.280000</td>\n",
       "      <td>2.000000</td>\n",
       "      <td>0.000000</td>\n",
       "      <td>1.728750</td>\n",
       "    </tr>\n",
       "    <tr>\n",
       "      <th>50%</th>\n",
       "      <td>4997.500000</td>\n",
       "      <td>2013-06-27 00:00:00</td>\n",
       "      <td>2013-06-30 00:00:00</td>\n",
       "      <td>56430.500000</td>\n",
       "      <td>54.490000</td>\n",
       "      <td>3.000000</td>\n",
       "      <td>0.200000</td>\n",
       "      <td>8.666500</td>\n",
       "    </tr>\n",
       "    <tr>\n",
       "      <th>75%</th>\n",
       "      <td>7495.750000</td>\n",
       "      <td>2014-05-15 00:00:00</td>\n",
       "      <td>2014-05-19 00:00:00</td>\n",
       "      <td>90008.000000</td>\n",
       "      <td>209.940000</td>\n",
       "      <td>5.000000</td>\n",
       "      <td>0.200000</td>\n",
       "      <td>29.364000</td>\n",
       "    </tr>\n",
       "    <tr>\n",
       "      <th>max</th>\n",
       "      <td>9994.000000</td>\n",
       "      <td>2014-12-31 00:00:00</td>\n",
       "      <td>2015-01-06 00:00:00</td>\n",
       "      <td>99301.000000</td>\n",
       "      <td>22638.480000</td>\n",
       "      <td>14.000000</td>\n",
       "      <td>0.800000</td>\n",
       "      <td>8399.976000</td>\n",
       "    </tr>\n",
       "    <tr>\n",
       "      <th>std</th>\n",
       "      <td>2885.163629</td>\n",
       "      <td>NaN</td>\n",
       "      <td>NaN</td>\n",
       "      <td>32063.693350</td>\n",
       "      <td>623.245101</td>\n",
       "      <td>2.225110</td>\n",
       "      <td>0.206452</td>\n",
       "      <td>234.260108</td>\n",
       "    </tr>\n",
       "  </tbody>\n",
       "</table>\n",
       "</div>"
      ],
      "text/plain": [
       "            Row ID                     Order Date  \\\n",
       "count  9994.000000                           9994   \n",
       "mean   4997.500000  2013-04-30 19:20:02.401441024   \n",
       "min       1.000000            2011-01-04 00:00:00   \n",
       "25%    2499.250000            2012-05-23 00:00:00   \n",
       "50%    4997.500000            2013-06-27 00:00:00   \n",
       "75%    7495.750000            2014-05-15 00:00:00   \n",
       "max    9994.000000            2014-12-31 00:00:00   \n",
       "std    2885.163629                            NaN   \n",
       "\n",
       "                           Ship Date   Postal Code         Sales     Quantity  \\\n",
       "count                           9994   9994.000000   9994.000000  9994.000000   \n",
       "mean   2013-05-04 18:20:49.229537792  55190.379428    229.858001     3.789574   \n",
       "min              2011-01-08 00:00:00   1040.000000      0.444000     1.000000   \n",
       "25%              2012-05-27 00:00:00  23223.000000     17.280000     2.000000   \n",
       "50%              2013-06-30 00:00:00  56430.500000     54.490000     3.000000   \n",
       "75%              2014-05-19 00:00:00  90008.000000    209.940000     5.000000   \n",
       "max              2015-01-06 00:00:00  99301.000000  22638.480000    14.000000   \n",
       "std                              NaN  32063.693350    623.245101     2.225110   \n",
       "\n",
       "          Discount       Profit  \n",
       "count  9994.000000  9994.000000  \n",
       "mean      0.156203    28.656896  \n",
       "min       0.000000 -6599.978000  \n",
       "25%       0.000000     1.728750  \n",
       "50%       0.200000     8.666500  \n",
       "75%       0.200000    29.364000  \n",
       "max       0.800000  8399.976000  \n",
       "std       0.206452   234.260108  "
      ]
     },
     "execution_count": 5,
     "metadata": {},
     "output_type": "execute_result"
    }
   ],
   "source": [
    "df.describe()\n"
   ]
  },
  {
   "cell_type": "markdown",
   "id": "46da2fe8-87bb-4ca6-b578-ee2b14e3d873",
   "metadata": {},
   "source": [
    "# Check missing values"
   ]
  },
  {
   "cell_type": "code",
   "execution_count": 6,
   "id": "14072d63-3f6c-46bd-bfc8-cd9c2a088ee7",
   "metadata": {},
   "outputs": [
    {
     "data": {
      "text/plain": [
       "Row ID           0\n",
       "Order ID         0\n",
       "Order Date       0\n",
       "Ship Date        0\n",
       "Ship Mode        0\n",
       "Customer ID      0\n",
       "Customer Name    0\n",
       "Segment          0\n",
       "Country          0\n",
       "City             0\n",
       "State            0\n",
       "Postal Code      0\n",
       "Region           0\n",
       "Product ID       0\n",
       "Category         0\n",
       "Sub-Category     0\n",
       "Product Name     0\n",
       "Sales            0\n",
       "Quantity         0\n",
       "Discount         0\n",
       "Profit           0\n",
       "dtype: int64"
      ]
     },
     "execution_count": 6,
     "metadata": {},
     "output_type": "execute_result"
    }
   ],
   "source": [
    "df.isna().sum()"
   ]
  },
  {
   "cell_type": "markdown",
   "id": "a82499ec-5378-4a9f-8bec-e7a0aa26085e",
   "metadata": {},
   "source": [
    "# Check duplicates"
   ]
  },
  {
   "cell_type": "code",
   "execution_count": 7,
   "id": "0577f7db-4d6c-4d44-bdac-b24276487c5d",
   "metadata": {},
   "outputs": [
    {
     "data": {
      "text/plain": [
       "False    9994\n",
       "Name: count, dtype: int64"
      ]
     },
     "execution_count": 7,
     "metadata": {},
     "output_type": "execute_result"
    }
   ],
   "source": [
    "df.duplicated().value_counts()"
   ]
  },
  {
   "cell_type": "markdown",
   "id": "7f7f4324-0bc8-471a-89b0-05643fdccd6e",
   "metadata": {},
   "source": [
    "### The dataset has no missing values and no duplicates"
   ]
  },
  {
   "cell_type": "markdown",
   "id": "4361d6df-5bd1-491e-85ad-2fc32ae6dd29",
   "metadata": {},
   "source": [
    "# Check Outliers "
   ]
  },
  {
   "cell_type": "code",
   "execution_count": 8,
   "id": "96108d3f-01dc-495a-b0a4-10365d59c473",
   "metadata": {},
   "outputs": [],
   "source": [
    "# # Function to detect and remove outliers using IQR\n",
    "# def remove_outliers_iqr(df, columns=None):\n",
    "#     if columns is None:\n",
    "#         columns = df.select_dtypes(include=['float64', 'int64']).columns\n",
    "    \n",
    "#     for col in columns:\n",
    "#         Q1 = df[col].quantile(0.25)\n",
    "#         Q3 = df[col].quantile(0.75)\n",
    "#         IQR = Q3 - Q1\n",
    "#         lower_bound = Q1 - 1.5 * IQR\n",
    "#         upper_bound = Q3 + 1.5 * IQR\n",
    "        \n",
    "#         # Filter the dataframe\n",
    "#         data = df[(df[col] >= lower_bound) & (df[col] <= upper_bound)]\n",
    "# return data\n",
    "\n",
    "# # Remove outliers from numeric columns\n",
    "# df_clean = remove_outliers_iqr(df)\n",
    "\n",
    "# print(\"Original shape:\", df.shape)\n",
    "# print(\"After removing outliers:\", df_clean.shape)\n"
   ]
  },
  {
   "cell_type": "code",
   "execution_count": 9,
   "id": "378de6eb-ed6c-49b1-a33c-86b376cfe1f5",
   "metadata": {},
   "outputs": [
    {
     "data": {
      "text/plain": [
       "0       FUR-BO-10001798\n",
       "1       FUR-CH-10000454\n",
       "2       OFF-LA-10000240\n",
       "3       FUR-TA-10000577\n",
       "4       OFF-ST-10000760\n",
       "             ...       \n",
       "9989    FUR-FU-10001889\n",
       "9990    FUR-FU-10000747\n",
       "9991    TEC-PH-10003645\n",
       "9992    OFF-PA-10004041\n",
       "9993    OFF-AP-10002684\n",
       "Name: Product ID, Length: 9994, dtype: object"
      ]
     },
     "execution_count": 9,
     "metadata": {},
     "output_type": "execute_result"
    }
   ],
   "source": [
    "df['Product ID']"
   ]
  },
  {
   "cell_type": "code",
   "execution_count": 10,
   "id": "1ce491de-4c29-4016-9a12-5bbc92b5fa44",
   "metadata": {},
   "outputs": [
    {
     "data": {
      "text/plain": [
       "0                       Bush Somerset Collection Bookcase\n",
       "1       Hon Deluxe Fabric Upholstered Stacking Chairs,...\n",
       "2       Self-Adhesive Address Labels for Typewriters b...\n",
       "3           Bretford CR4500 Series Slim Rectangular Table\n",
       "4                          Eldon Fold 'N Roll Cart System\n",
       "                              ...                        \n",
       "9989                               Ultra Door Pull Handle\n",
       "9990    Tenex B1-RE Series Chair Mats for Low Pile Car...\n",
       "9991                                Aastra 57i VoIP phone\n",
       "9992    It's Hot Message Books with Stickers, 2 3/4\" x 5\"\n",
       "9993    Acco 7-Outlet Masterpiece Power Center, Wihtou...\n",
       "Name: Product Name, Length: 9994, dtype: object"
      ]
     },
     "execution_count": 10,
     "metadata": {},
     "output_type": "execute_result"
    }
   ],
   "source": [
    "df['Product Name']"
   ]
  },
  {
   "cell_type": "markdown",
   "id": "edbcceac-f997-4515-b6fe-5fed01016821",
   "metadata": {},
   "source": [
    "# BEST SELLING PRODUCTS"
   ]
  },
  {
   "cell_type": "code",
   "execution_count": 11,
   "id": "4959b23f-5f8d-4caf-bcd3-014a187166d7",
   "metadata": {},
   "outputs": [
    {
     "data": {
      "text/html": [
       "<div>\n",
       "<style scoped>\n",
       "    .dataframe tbody tr th:only-of-type {\n",
       "        vertical-align: middle;\n",
       "    }\n",
       "\n",
       "    .dataframe tbody tr th {\n",
       "        vertical-align: top;\n",
       "    }\n",
       "\n",
       "    .dataframe thead th {\n",
       "        text-align: right;\n",
       "    }\n",
       "</style>\n",
       "<table border=\"1\" class=\"dataframe\">\n",
       "  <thead>\n",
       "    <tr style=\"text-align: right;\">\n",
       "      <th></th>\n",
       "      <th>Product Name</th>\n",
       "      <th>Sales</th>\n",
       "    </tr>\n",
       "  </thead>\n",
       "  <tbody>\n",
       "    <tr>\n",
       "      <th>0</th>\n",
       "      <td>Canon imageCLASS 2200 Advanced Copier</td>\n",
       "      <td>61599.824</td>\n",
       "    </tr>\n",
       "    <tr>\n",
       "      <th>1</th>\n",
       "      <td>Fellowes PB500 Electric Punch Plastic Comb Bin...</td>\n",
       "      <td>27453.384</td>\n",
       "    </tr>\n",
       "    <tr>\n",
       "      <th>2</th>\n",
       "      <td>Cisco TelePresence System EX90 Videoconferenci...</td>\n",
       "      <td>22638.480</td>\n",
       "    </tr>\n",
       "    <tr>\n",
       "      <th>3</th>\n",
       "      <td>HON 5400 Series Task Chairs for Big and Tall</td>\n",
       "      <td>21870.576</td>\n",
       "    </tr>\n",
       "    <tr>\n",
       "      <th>4</th>\n",
       "      <td>GBC DocuBind TL300 Electric Binding System</td>\n",
       "      <td>19823.479</td>\n",
       "    </tr>\n",
       "    <tr>\n",
       "      <th>5</th>\n",
       "      <td>GBC Ibimaster 500 Manual ProClick Binding System</td>\n",
       "      <td>19024.500</td>\n",
       "    </tr>\n",
       "    <tr>\n",
       "      <th>6</th>\n",
       "      <td>Hewlett Packard LaserJet 3310 Copier</td>\n",
       "      <td>18839.686</td>\n",
       "    </tr>\n",
       "    <tr>\n",
       "      <th>7</th>\n",
       "      <td>HP Designjet T520 Inkjet Large Format Printer ...</td>\n",
       "      <td>18374.895</td>\n",
       "    </tr>\n",
       "    <tr>\n",
       "      <th>8</th>\n",
       "      <td>GBC DocuBind P400 Electric Binding System</td>\n",
       "      <td>17965.068</td>\n",
       "    </tr>\n",
       "    <tr>\n",
       "      <th>9</th>\n",
       "      <td>High Speed Automatic Electric Letter Opener</td>\n",
       "      <td>17030.312</td>\n",
       "    </tr>\n",
       "  </tbody>\n",
       "</table>\n",
       "</div>"
      ],
      "text/plain": [
       "                                        Product Name      Sales\n",
       "0              Canon imageCLASS 2200 Advanced Copier  61599.824\n",
       "1  Fellowes PB500 Electric Punch Plastic Comb Bin...  27453.384\n",
       "2  Cisco TelePresence System EX90 Videoconferenci...  22638.480\n",
       "3       HON 5400 Series Task Chairs for Big and Tall  21870.576\n",
       "4         GBC DocuBind TL300 Electric Binding System  19823.479\n",
       "5   GBC Ibimaster 500 Manual ProClick Binding System  19024.500\n",
       "6               Hewlett Packard LaserJet 3310 Copier  18839.686\n",
       "7  HP Designjet T520 Inkjet Large Format Printer ...  18374.895\n",
       "8          GBC DocuBind P400 Electric Binding System  17965.068\n",
       "9        High Speed Automatic Electric Letter Opener  17030.312"
      ]
     },
     "execution_count": 11,
     "metadata": {},
     "output_type": "execute_result"
    }
   ],
   "source": [
    "import matplotlib.pyplot as plt\n",
    "import seaborn as sns\n",
    "\n",
    "# Group by  top 10 product and sum sales\n",
    "top_best_selling_products = df.groupby(\"Product Name\")[\"Sales\"].sum().sort_values(ascending=False).head(10).reset_index()\n",
    "top_best_selling_products\n"
   ]
  },
  {
   "cell_type": "code",
   "execution_count": 12,
   "id": "3839bce1-a632-4f0f-8450-fc066ab5a4ae",
   "metadata": {},
   "outputs": [
    {
     "data": {
      "image/png": "[encoded data removed]",
      "text/plain": [
       "<Figure size 864x432 with 1 Axes>"
      ]
     },
     "metadata": {
      "needs_background": "light"
     },
     "output_type": "display_data"
    }
   ],
   "source": [
    "# Plot\n",
    "plt.figure(figsize=(12,6))\n",
    "sns.barplot(data=top_best_selling_products, x=\"Sales\", y=\"Product Name\", palette=\"coolwarm\")\n",
    "plt.title(\"Top 10 Products by Sales\")\n",
    "plt.show()"
   ]
  },
  {
   "cell_type": "markdown",
   "id": "9ff785ae-44a0-4e59-8dac-4e20c6352f4e",
   "metadata": {},
   "source": [
    "# When do sales peak during the year?\n",
    "\n",
    "- look at sales by month"
   ]
  },
  {
   "cell_type": "code",
   "execution_count": 13,
   "id": "573166f6-a621-45e6-b822-3d8c12b35e9d",
   "metadata": {},
   "outputs": [],
   "source": [
    "# # Extract month from order_date\n",
    "# df[\"Month\"] = df[\"Order Date\"].dt.month\n",
    "\n",
    "# # Group by month\n",
    "# monthly_sales = df.groupby(\"Month\")[\"Sales\"].sum().reset_index()\n",
    "\n",
    "# plt.figure(figsize=(10,5))\n",
    "# sns.lineplot(data=monthly_sales, x=\"Month\", y=\"Sales\", marker=\"o\")\n",
    "# plt.title(\"Monthly Sales Trend\")\n",
    "# plt.xlabel(\"Month\")\n",
    "# plt.ylabel(\"Total Sales\")\n",
    "# plt.xticks(range(1,13))\n",
    "# plt.show()\n"
   ]
  },
  {
   "cell_type": "markdown",
   "id": "acb6c388-cec4-4f95-aa9f-9c5385ecb0c4",
   "metadata": {},
   "source": [
    "- looking at your Monthly Sales Trend plot:\n",
    "\n",
    "- Sales peak in November (Month 11) with the highest spike followed closely by December (Month 12)\n",
    "\n",
    "- There's also a smaller peak in September (Month 9)\n",
    "\n",
    "- the biggest sales season is November–December which likely corresponds to holiday shopping  and  end of year promotions"
   ]
  },
  {
   "cell_type": "code",
   "execution_count": 14,
   "id": "706194a4-300c-475e-abc2-a6cb9c3dff1c",
   "metadata": {},
   "outputs": [],
   "source": [
    "# # Use a better color palette\n",
    "# plt.figure(figsize=(12,6))\n",
    "# sns.lineplot(\n",
    "#     data=monthly_sales, \n",
    "#     x=\"Month_Num\", \n",
    "#     y=\"Sales\", \n",
    "#     hue=\"Year\", \n",
    "#     marker=\"o\",\n",
    "#     palette=\"tab10\"   # alternatives: \"Set2\", \"Paired\", \"Dark2\"\n",
    "# )\n",
    "\n",
    "# # Formatting\n",
    "# plt.title(\"Monthly Sales Trend by Year\", fontsize=14)\n",
    "# plt.xlabel(\"Month\")\n",
    "# plt.ylabel(\"Total Sales\")\n",
    "# plt.xticks(range(1,13), \n",
    "#            [\"Jan\",\"Feb\",\"Mar\",\"Apr\",\"May\",\"Jun\",\"Jul\",\"Aug\",\"Sep\",\"Oct\",\"Nov\",\"Dec\"])\n",
    "# plt.legend(title=\"Year\")\n",
    "# plt.show()\n"
   ]
  },
  {
   "cell_type": "code",
   "execution_count": null,
   "id": "da97e851-036f-4265-9f71-17cbdbfaad70",
   "metadata": {},
   "outputs": [],
   "source": []
  },
  {
   "cell_type": "code",
   "execution_count": 15,
   "id": "157f0618-e073-43d8-9b91-1e35042e580a",
   "metadata": {},
   "outputs": [],
   "source": [
    "#When time of the year do the sales pick\n",
    "\n",
    "import pandas as pd\n",
    "import calendar\n",
    "\n",
    "# Convert Order Date to datetime\n",
    "df['Order Date'] = pd.to_datetime(df['Order Date'])\n",
    "\n",
    "# Extract Year, Month number, and Month name\n",
    "df['Year'] = df['Order Date'].dt.year\n",
    "df['Month_Num'] = df['Order Date'].dt.month\n",
    "df['Month'] = df['Order Date'].dt.month_name()\n",
    "\n",
    "# Group by Year + Month_Num + Month\n",
    "monthly_sales = (\n",
    "    df.groupby(['Year', 'Month_Num', 'Month'], as_index=False)['Sales']\n",
    "      .sum()\n",
    "      .sort_values(['Year', 'Month_Num'])\n",
    ")\n",
    "\n",
    "# Ensure Month is categoric"
   ]
  },
  {
   "cell_type": "code",
   "execution_count": 16,
   "id": "cc408934-7524-4f42-842b-870f8acd8968",
   "metadata": {},
   "outputs": [
    {
     "name": "stdout",
     "output_type": "stream",
     "text": [
      "        Month         Sales\n",
      "9    November  87280.018500\n",
      "2    December  83044.289875\n",
      "11  September  77442.524925\n",
      "7       March  49813.246000\n",
      "10    October  49278.800425\n",
      "1      August  39897.362750\n",
      "8         May  39030.571675\n",
      "5        July  37395.209500\n",
      "6        June  36770.652825\n",
      "0       April  35462.891850\n",
      "4     January  23841.484400\n",
      "3    February  15043.162350\n"
     ]
    }
   ],
   "source": [
    "# Group by month only (ignore year for now)\n",
    "avg_monthly_sales = monthly_sales.groupby('Month')['Sales'].mean().reset_index()\n",
    "\n",
    "# Sort by Sales in descending order\n",
    "avg_monthly_sales = avg_monthly_sales.sort_values(by='Sales', ascending=False)\n",
    "\n",
    "print(avg_monthly_sales)"
   ]
  },
  {
   "cell_type": "code",
   "execution_count": 17,
   "id": "c63d198a-fcdd-4f93-ba54-c0e17ae535d8",
   "metadata": {},
   "outputs": [
    {
     "name": "stdout",
     "output_type": "stream",
     "text": [
      "        Month         Sales\n",
      "9    November  87280.018500\n",
      "2    December  83044.289875\n",
      "11  September  77442.524925\n",
      "7       March  49813.246000\n",
      "10    October  49278.800425\n",
      "1      August  39897.362750\n",
      "8         May  39030.571675\n",
      "5        July  37395.209500\n",
      "6        June  36770.652825\n",
      "0       April  35462.891850\n",
      "4     January  23841.484400\n",
      "3    February  15043.162350\n"
     ]
    }
   ],
   "source": [
    "# Group by month only (ignore year for now)\n",
    "avg_monthly_sales = monthly_sales.groupby('Month')['Sales'].mean().reset_index()\n",
    "\n",
    "# Sort by Sales in descending order\n",
    "avg_monthly_sales = avg_monthly_sales.sort_values(by='Sales', ascending=False)\n",
    "\n",
    "print(avg_monthly_sales)"
   ]
  },
  {
   "cell_type": "code",
   "execution_count": 18,
   "id": "f0c45116-9b08-49ab-bef3-3e9b88c087de",
   "metadata": {},
   "outputs": [
    {
     "data": {
      "image/png": "[encoded data removed]",
      "text/plain": [
       "<Figure size 720x432 with 1 Axes>"
      ]
     },
     "metadata": {
      "needs_background": "light"
     },
     "output_type": "display_data"
    }
   ],
   "source": [
    "plt.figure(figsize=(10,6))\n",
    "plt.bar(avg_monthly_sales['Month'], avg_monthly_sales['Sales'], color=\"skyblue\")\n",
    "plt.title(\"Average Monthly Sales (Descending Order)\", fontsize=14)\n",
    "plt.xlabel(\"Month\")\n",
    "plt.ylabel(\"Average Sales\")\n",
    "plt.xticks(rotation=45)\n",
    "plt.show()"
   ]
  },
  {
   "cell_type": "code",
   "execution_count": null,
   "id": "08778328-6929-4e08-a9fb-84fe575d420a",
   "metadata": {},
   "outputs": [],
   "source": []
  },
  {
   "cell_type": "markdown",
   "id": "cfb0c66e-b921-4f7c-8ee1-f347d74a4dfa",
   "metadata": {},
   "source": [
    "# Which categories or regions bring the most revenue\n",
    "\n",
    " Category vs Sales and Region vs Sales"
   ]
  },
  {
   "cell_type": "code",
   "execution_count": 24,
   "id": "a7e3ab44-7152-4b7c-ac54-ddfbd088c3d6",
   "metadata": {},
   "outputs": [
    {
     "data": {
      "text/html": [
       "<div>\n",
       "<style scoped>\n",
       "    .dataframe tbody tr th:only-of-type {\n",
       "        vertical-align: middle;\n",
       "    }\n",
       "\n",
       "    .dataframe tbody tr th {\n",
       "        vertical-align: top;\n",
       "    }\n",
       "\n",
       "    .dataframe thead th {\n",
       "        text-align: right;\n",
       "    }\n",
       "</style>\n",
       "<table border=\"1\" class=\"dataframe\">\n",
       "  <thead>\n",
       "    <tr style=\"text-align: right;\">\n",
       "      <th></th>\n",
       "      <th>Region</th>\n",
       "      <th>Sales</th>\n",
       "    </tr>\n",
       "  </thead>\n",
       "  <tbody>\n",
       "    <tr>\n",
       "      <th>0</th>\n",
       "      <td>West</td>\n",
       "      <td>725457.8245</td>\n",
       "    </tr>\n",
       "    <tr>\n",
       "      <th>1</th>\n",
       "      <td>East</td>\n",
       "      <td>678781.2400</td>\n",
       "    </tr>\n",
       "    <tr>\n",
       "      <th>2</th>\n",
       "      <td>Central</td>\n",
       "      <td>501239.8908</td>\n",
       "    </tr>\n",
       "    <tr>\n",
       "      <th>3</th>\n",
       "      <td>South</td>\n",
       "      <td>391721.9050</td>\n",
       "    </tr>\n",
       "  </tbody>\n",
       "</table>\n",
       "</div>"
      ],
      "text/plain": [
       "    Region        Sales\n",
       "0     West  725457.8245\n",
       "1     East  678781.2400\n",
       "2  Central  501239.8908\n",
       "3    South  391721.9050"
      ]
     },
     "execution_count": 24,
     "metadata": {},
     "output_type": "execute_result"
    }
   ],
   "source": [
    "# Best selling region\n",
    "best_selling_region = df.groupby(\"Region\")[\"Sales\"].sum().sort_values(ascending = False).reset_index()\n",
    "best_selling_region "
   ]
  },
  {
   "cell_type": "code",
   "execution_count": 25,
   "id": "f9ebbc3e-a7b1-4cd0-a13a-88a3ba45ae83",
   "metadata": {},
   "outputs": [
    {
     "data": {
      "image/png": "[encoded data removed]",
      "text/plain": [
       "<Figure size 576x360 with 1 Axes>"
      ]
     },
     "metadata": {
      "needs_background": "light"
     },
     "output_type": "display_data"
    }
   ],
   "source": [
    "# Region sales\n",
    "\\\n",
    "plt.figure(figsize=(8,5))\n",
    "sns.barplot(data=best_selling_region, x=\"Region\", y=\"Sales\", palette=\"Set1\")\n",
    "plt.title(\"Total Sales by Region\")\n",
    "plt.show()"
   ]
  },
  {
   "cell_type": "code",
   "execution_count": 26,
   "id": "8fe81c55-3e08-479d-bf2e-50d5b275cfea",
   "metadata": {},
   "outputs": [
    {
     "data": {
      "text/html": [
       "<div>\n",
       "<style scoped>\n",
       "    .dataframe tbody tr th:only-of-type {\n",
       "        vertical-align: middle;\n",
       "    }\n",
       "\n",
       "    .dataframe tbody tr th {\n",
       "        vertical-align: top;\n",
       "    }\n",
       "\n",
       "    .dataframe thead th {\n",
       "        text-align: right;\n",
       "    }\n",
       "</style>\n",
       "<table border=\"1\" class=\"dataframe\">\n",
       "  <thead>\n",
       "    <tr style=\"text-align: right;\">\n",
       "      <th></th>\n",
       "      <th>Category</th>\n",
       "      <th>Sales</th>\n",
       "    </tr>\n",
       "  </thead>\n",
       "  <tbody>\n",
       "    <tr>\n",
       "      <th>0</th>\n",
       "      <td>Technology</td>\n",
       "      <td>836154.0330</td>\n",
       "    </tr>\n",
       "    <tr>\n",
       "      <th>1</th>\n",
       "      <td>Furniture</td>\n",
       "      <td>741999.7953</td>\n",
       "    </tr>\n",
       "    <tr>\n",
       "      <th>2</th>\n",
       "      <td>Office Supplies</td>\n",
       "      <td>719047.0320</td>\n",
       "    </tr>\n",
       "  </tbody>\n",
       "</table>\n",
       "</div>"
      ],
      "text/plain": [
       "          Category        Sales\n",
       "0       Technology  836154.0330\n",
       "1        Furniture  741999.7953\n",
       "2  Office Supplies  719047.0320"
      ]
     },
     "execution_count": 26,
     "metadata": {},
     "output_type": "execute_result"
    }
   ],
   "source": [
    "# Best Selling category\n",
    "best_selling_category = df.groupby(\"Category\")[\"Sales\"].sum().sort_values(ascending = False).reset_index()\n",
    "best_selling_category"
   ]
  },
  {
   "cell_type": "code",
   "execution_count": 27,
   "id": "bb69caa0-e7d4-4abc-a133-0d3bd2d0b2ad",
   "metadata": {},
   "outputs": [
    {
     "data": {
      "image/png": "[encoded data removed]",
      "text/plain": [
       "<Figure size 576x360 with 1 Axes>"
      ]
     },
     "metadata": {
      "needs_background": "light"
     },
     "output_type": "display_data"
    }
   ],
   "source": [
    "# Category sales\n",
    "plt.figure(figsize=(8,5))\n",
    "sns.barplot(data=best_selling_category, x=\"Category\", y=\"Sales\", palette=\"Set1\")\n",
    "plt.title(\"Total Sales by Category\")\n",
    "plt.show()\n"
   ]
  },
  {
   "cell_type": "markdown",
   "id": "fb1babad-72f2-4117-afa0-f9c63e23f0e8",
   "metadata": {},
   "source": [
    "- Technology and West had the highest  sales"
   ]
  },
  {
   "cell_type": "code",
   "execution_count": null,
   "id": "4d19172a-b7f7-4d47-8ce9-bf109a2fc323",
   "metadata": {},
   "outputs": [],
   "source": []
  },
  {
   "cell_type": "code",
   "execution_count": null,
   "id": "dc901577-64d3-47e0-8c63-e43063a4b094",
   "metadata": {},
   "outputs": [],
   "source": []
  },
  {
   "cell_type": "code",
   "execution_count": null,
   "id": "30615cb3-d7ce-40f6-84da-33738e73ddd4",
   "metadata": {},
   "outputs": [],
   "source": []
  },
  {
   "cell_type": "code",
   "execution_count": null,
   "id": "b669491d-3bc3-428f-b1bf-18c14c97ea8d",
   "metadata": {},
   "outputs": [],
   "source": []
  },
  {
   "cell_type": "code",
   "execution_count": null,
   "id": "aeefbfe2-bb9b-42fb-b21f-f79f474051b6",
   "metadata": {},
   "outputs": [],
   "source": []
  },
  {
   "cell_type": "code",
   "execution_count": null,
   "id": "2079bfcc-e022-4feb-a09c-16c72673becd",
   "metadata": {},
   "outputs": [],
   "source": []
  },
  {
   "cell_type": "code",
   "execution_count": null,
   "id": "daf69570-5e57-444d-94f3-32824a381e44",
   "metadata": {},
   "outputs": [],
   "source": []
  }
 ],
 "metadata": {
  "kernelspec": {
   "display_name": "Python (learn-env)",
   "language": "python",
   "name": "learn-env"
  },
  "language_info": {
   "codemirror_mode": {
    "name": "ipython",
    "version": 3
   },
   "file_extension": ".py",
   "mimetype": "text/x-python",
   "name": "python",
   "nbconvert_exporter": "python",
   "pygments_lexer": "ipython3",
   "version": "3.8.5"
  }
 },
 "nbformat": 4,
 "nbformat_minor": 5
}
